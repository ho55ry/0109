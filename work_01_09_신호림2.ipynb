{
 "cells": [
  {
   "cell_type": "code",
   "execution_count": 57,
   "metadata": {},
   "outputs": [],
   "source": [
    "import pandas as pd\n",
    "import matplotlib as plt"
   ]
  },
  {
   "cell_type": "code",
   "execution_count": 26,
   "metadata": {},
   "outputs": [],
   "source": [
    "SITE='https://ko.wikipedia.org/wiki/%EC%9D%B8%EA%B5%AC%EC%88%9C_%EB%82%98%EB%9D%BC_%EB%AA%A9%EB%A1%9D'\n",
    "data=pd.read_html(SITE)"
   ]
  },
  {
   "cell_type": "code",
   "execution_count": 27,
   "metadata": {},
   "outputs": [],
   "source": [
    "df1=data[0]"
   ]
  },
  {
   "cell_type": "code",
   "execution_count": 28,
   "metadata": {},
   "outputs": [],
   "source": [
    "df1.drop([0,3,4],axis=1,inplace=True)"
   ]
  },
  {
   "cell_type": "code",
   "execution_count": 29,
   "metadata": {},
   "outputs": [],
   "source": [
    "df1.columns=['국가명','인구수']"
   ]
  },
  {
   "cell_type": "code",
   "execution_count": 30,
   "metadata": {},
   "outputs": [
    {
     "data": {
      "text/html": [
       "<div>\n",
       "<style scoped>\n",
       "    .dataframe tbody tr th:only-of-type {\n",
       "        vertical-align: middle;\n",
       "    }\n",
       "\n",
       "    .dataframe tbody tr th {\n",
       "        vertical-align: top;\n",
       "    }\n",
       "\n",
       "    .dataframe thead th {\n",
       "        text-align: right;\n",
       "    }\n",
       "</style>\n",
       "<table border=\"1\" class=\"dataframe\">\n",
       "  <thead>\n",
       "    <tr style=\"text-align: right;\">\n",
       "      <th></th>\n",
       "      <th>국가명</th>\n",
       "      <th>인구수</th>\n",
       "    </tr>\n",
       "  </thead>\n",
       "  <tbody>\n",
       "    <tr>\n",
       "      <th>0</th>\n",
       "      <td>중화인민공화국</td>\n",
       "      <td>1425880533</td>\n",
       "    </tr>\n",
       "    <tr>\n",
       "      <th>1</th>\n",
       "      <td>인도</td>\n",
       "      <td>1406631781</td>\n",
       "    </tr>\n",
       "    <tr>\n",
       "      <th>2</th>\n",
       "      <td>미국</td>\n",
       "      <td>334805268</td>\n",
       "    </tr>\n",
       "    <tr>\n",
       "      <th>3</th>\n",
       "      <td>인도네시아</td>\n",
       "      <td>279134505</td>\n",
       "    </tr>\n",
       "    <tr>\n",
       "      <th>4</th>\n",
       "      <td>파키스탄</td>\n",
       "      <td>229488996</td>\n",
       "    </tr>\n",
       "    <tr>\n",
       "      <th>...</th>\n",
       "      <td>...</td>\n",
       "      <td>...</td>\n",
       "    </tr>\n",
       "    <tr>\n",
       "      <th>236</th>\n",
       "      <td>니우에</td>\n",
       "      <td>1520</td>\n",
       "    </tr>\n",
       "    <tr>\n",
       "      <th>237</th>\n",
       "      <td>토켈라우</td>\n",
       "      <td>1501</td>\n",
       "    </tr>\n",
       "    <tr>\n",
       "      <th>238</th>\n",
       "      <td>바티칸 시국</td>\n",
       "      <td>825</td>\n",
       "    </tr>\n",
       "    <tr>\n",
       "      <th>239</th>\n",
       "      <td>코코스 제도</td>\n",
       "      <td>573</td>\n",
       "    </tr>\n",
       "    <tr>\n",
       "      <th>240</th>\n",
       "      <td>핏케언 제도</td>\n",
       "      <td>46</td>\n",
       "    </tr>\n",
       "  </tbody>\n",
       "</table>\n",
       "<p>241 rows × 2 columns</p>\n",
       "</div>"
      ],
      "text/plain": [
       "         국가명         인구수\n",
       "0    중화인민공화국  1425880533\n",
       "1         인도  1406631781\n",
       "2         미국   334805268\n",
       "3      인도네시아   279134505\n",
       "4       파키스탄   229488996\n",
       "..       ...         ...\n",
       "236      니우에        1520\n",
       "237     토켈라우        1501\n",
       "238   바티칸 시국         825\n",
       "239   코코스 제도         573\n",
       "240   핏케언 제도          46\n",
       "\n",
       "[241 rows x 2 columns]"
      ]
     },
     "execution_count": 30,
     "metadata": {},
     "output_type": "execute_result"
    }
   ],
   "source": [
    "df1"
   ]
  },
  {
   "cell_type": "code",
   "execution_count": 31,
   "metadata": {},
   "outputs": [],
   "source": [
    "아시아=['대한민국','조선민주주의인민공화국','일본','몽골','중화인민공화국','중화민국','홍콩','러시아','인도네시아','미얀마','태국','베트남',\n",
    "'말레이시아','필리핀','라오스','캄보디아','동티모르','브루나이','싱가포르','네팔','몰디브','방글라데시','부탄','스리랑카','인도','파키스탄','이란','아프가니스탄',\n",
    "'우즈베키스탄','카자흐스탄','키르기스스탄','타지키스탄','투르크메니스탄','레바논','바레인','사우디아라비아','시리아','아랍에미리트','아르메니아','아르차흐 공화국','아제르바이잔',\n",
    "'예멘','오만','요르단','이라크','이스라엘','카타르','쿠웨이트','키프로스','북키프로스','튀르키예','팔레스타인','조지아','남오세티야','압하지야']"
   ]
  },
  {
   "cell_type": "code",
   "execution_count": 32,
   "metadata": {},
   "outputs": [],
   "source": [
    "아프리카=['세네갈', '서사하라', '토고', '탄자니아', '튀니지','콩고민주공화국', '콩고공화국', '코모로',\n",
    "'콩고민주공화국', '코트디부아르', '케냐', '상투메프린시페','부르키나파소', '부룬디', '보츠와나',\n",
    "'베냉', '모잠비크','모리타니', '카메룬', '차드', '카보베르데', '짐바브웨','지부티', '중앙아프리카공화국',\n",
    "'모리셔스', '모로코','말리', '말라위', '마다가스카르', '리비아', '적도기니','잠비아', '이집트',\n",
    "'우간다', '에티오피아', '에리트레아','르완다', '레소토', '라이베리아', '니제르', '앙골라''남수단',\n",
    "'남아프리카공화국', '알제리', '시에라리온','스와질란드', '수단', '소말리아', '세이셸', '나미비아',\n",
    "'나이지리아', '기니비사우', '기니', '감비아', '가봉', '가나']"
   ]
  },
  {
   "cell_type": "code",
   "execution_count": 33,
   "metadata": {},
   "outputs": [],
   "source": [
    "오세아니아=['피지', '팔라우', '파푸아뉴기니', '솔로몬제도','서사모아', '바누아투', '투발루', '미크로네시아',\n",
    "'통가', '키리바시', '오스트레일리아', '마셜제도','뉴질랜드', '나우루']"
   ]
  },
  {
   "cell_type": "code",
   "execution_count": 34,
   "metadata": {},
   "outputs": [],
   "source": [
    "아메리카=['트리니다드토바고', '파나마', '쿠바', '코스타리카','세인트빈센트그레나딘', '벨리즈', '바하마',\n",
    "'바베이도스', '세인트루시아', '캐나다', '미국', '자메이카','온두라스', '엘살바도르', '안티구아바부다', '아이티',\n",
    "'세인트키츠네비스', '멕시코', '도미니카연방','그레나다', '과테말라', '니카라과', '도미니카공화국', '베네수엘라',\n",
    "'브라질', '볼리비아', '가이아나', '수리남','에콰도르', '우루과이', '콜롬비아', '칠레', '파라과이','페루', '아르헨티나']"
   ]
  },
  {
   "cell_type": "code",
   "execution_count": 35,
   "metadata": {},
   "outputs": [],
   "source": [
    "유럽=['헝가리', '폴란드', '그리스', '스웨덴',  '스위스', '네덜란드', '노르웨이', '슬로바키아', \n",
    "'슬로베니아','독일', '덴마크', '아이슬란드', '라트비아','러시아', '루마니아', '룩셈부르크', '리투아니아',\n",
    "'리히텐슈타인', '마케도니아', '안도라','알바니아', '아일랜드', '에스파냐', '오스트리아','모나코', '몬테네그로',\n",
    "'영국',  '몰도바', '바티칸', '벨기에','우크라이나', '이탈리아', '체코', '크로아티아','포르투갈', '벨라루스',\n",
    "'보스니아 헤르체고비나', '불가리아', '산마리노', '세르비아', '에스토니아', '프랑스', '필란드', '몰타']"
   ]
  },
  {
   "cell_type": "code",
   "execution_count": 36,
   "metadata": {},
   "outputs": [],
   "source": [
    "A=[]\n",
    "for i in df1['국가명']:\n",
    "    if i in 아시아: A.append('아시아')\n",
    "    elif i in 아프리카: A.append('아프리카')\n",
    "    elif i in 아메리카: A.append('아메리카')\n",
    "    elif i in 유럽: A.append('유럽')\n",
    "    elif i in 오세아니아: A.append('오세아니아')\n",
    "    else: A.append('기타')"
   ]
  },
  {
   "cell_type": "code",
   "execution_count": 37,
   "metadata": {},
   "outputs": [],
   "source": [
    "df1['대륙']=A"
   ]
  },
  {
   "cell_type": "code",
   "execution_count": 38,
   "metadata": {},
   "outputs": [
    {
     "data": {
      "text/html": [
       "<div>\n",
       "<style scoped>\n",
       "    .dataframe tbody tr th:only-of-type {\n",
       "        vertical-align: middle;\n",
       "    }\n",
       "\n",
       "    .dataframe tbody tr th {\n",
       "        vertical-align: top;\n",
       "    }\n",
       "\n",
       "    .dataframe thead th {\n",
       "        text-align: right;\n",
       "    }\n",
       "</style>\n",
       "<table border=\"1\" class=\"dataframe\">\n",
       "  <thead>\n",
       "    <tr style=\"text-align: right;\">\n",
       "      <th></th>\n",
       "      <th>국가명</th>\n",
       "      <th>인구수</th>\n",
       "      <th>대륙</th>\n",
       "    </tr>\n",
       "  </thead>\n",
       "  <tbody>\n",
       "    <tr>\n",
       "      <th>0</th>\n",
       "      <td>중화인민공화국</td>\n",
       "      <td>1425880533</td>\n",
       "      <td>아시아</td>\n",
       "    </tr>\n",
       "    <tr>\n",
       "      <th>1</th>\n",
       "      <td>인도</td>\n",
       "      <td>1406631781</td>\n",
       "      <td>아시아</td>\n",
       "    </tr>\n",
       "    <tr>\n",
       "      <th>2</th>\n",
       "      <td>미국</td>\n",
       "      <td>334805268</td>\n",
       "      <td>아메리카</td>\n",
       "    </tr>\n",
       "    <tr>\n",
       "      <th>3</th>\n",
       "      <td>인도네시아</td>\n",
       "      <td>279134505</td>\n",
       "      <td>아시아</td>\n",
       "    </tr>\n",
       "    <tr>\n",
       "      <th>4</th>\n",
       "      <td>파키스탄</td>\n",
       "      <td>229488996</td>\n",
       "      <td>아시아</td>\n",
       "    </tr>\n",
       "    <tr>\n",
       "      <th>...</th>\n",
       "      <td>...</td>\n",
       "      <td>...</td>\n",
       "      <td>...</td>\n",
       "    </tr>\n",
       "    <tr>\n",
       "      <th>236</th>\n",
       "      <td>니우에</td>\n",
       "      <td>1520</td>\n",
       "      <td>기타</td>\n",
       "    </tr>\n",
       "    <tr>\n",
       "      <th>237</th>\n",
       "      <td>토켈라우</td>\n",
       "      <td>1501</td>\n",
       "      <td>기타</td>\n",
       "    </tr>\n",
       "    <tr>\n",
       "      <th>238</th>\n",
       "      <td>바티칸 시국</td>\n",
       "      <td>825</td>\n",
       "      <td>기타</td>\n",
       "    </tr>\n",
       "    <tr>\n",
       "      <th>239</th>\n",
       "      <td>코코스 제도</td>\n",
       "      <td>573</td>\n",
       "      <td>기타</td>\n",
       "    </tr>\n",
       "    <tr>\n",
       "      <th>240</th>\n",
       "      <td>핏케언 제도</td>\n",
       "      <td>46</td>\n",
       "      <td>기타</td>\n",
       "    </tr>\n",
       "  </tbody>\n",
       "</table>\n",
       "<p>241 rows × 3 columns</p>\n",
       "</div>"
      ],
      "text/plain": [
       "         국가명         인구수    대륙\n",
       "0    중화인민공화국  1425880533   아시아\n",
       "1         인도  1406631781   아시아\n",
       "2         미국   334805268  아메리카\n",
       "3      인도네시아   279134505   아시아\n",
       "4       파키스탄   229488996   아시아\n",
       "..       ...         ...   ...\n",
       "236      니우에        1520    기타\n",
       "237     토켈라우        1501    기타\n",
       "238   바티칸 시국         825    기타\n",
       "239   코코스 제도         573    기타\n",
       "240   핏케언 제도          46    기타\n",
       "\n",
       "[241 rows x 3 columns]"
      ]
     },
     "execution_count": 38,
     "metadata": {},
     "output_type": "execute_result"
    }
   ],
   "source": [
    "df1"
   ]
  },
  {
   "cell_type": "code",
   "execution_count": 49,
   "metadata": {},
   "outputs": [],
   "source": [
    "\n",
    "df1.loc[[8],['대륙']]='아시아'\n",
    "df1.loc[[15],['대륙']]='아프리카'\n",
    "df1.loc[[19],['대륙']]='아시아'\n",
    "df1.loc[[20],['대륙']]='유럽'\n",
    "df1.loc[[29],['대륙']]='유럽'\n",
    "df1.loc[[22],['대륙']]='아프리카'\n",
    "df1.loc[[38],['대륙']]='아프리카'\n",
    "df1.loc[[46],['대륙']]='아프리카'\n",
    "df1.loc[[55],['대륙']]='아시아'\n",
    "df1.loc[[72],['대륙']]='아프리카'\n",
    "df1.loc[[74],['대륙']]='아프리카'\n",
    "df1.loc[[87],['대륙']]='아프리카'\n",
    "df1.loc[[105],['대륙']]='유럽'\n",
    "df1.loc[[116],['대륙']]='유럽'\n",
    "df1.loc[[117],['대륙']]='아프리카'\n",
    "df1.loc[[115],['대륙']]='아프리카'\n",
    "df1.loc[[136],['대륙']]='아메리카'\n",
    "df1.loc[[147],['대륙']]='유럽'\n",
    "df1.loc[[150],['대륙']]='유럽'\n",
    "df1.loc[[154],['대륙']]='아메리카'\n",
    "df1.loc[[155],['대륙']]='아프리카'\n",
    "df1.loc[[158],['대륙']]='아프리카'\n",
    "df1.loc[[165],['대륙']]='오세아니아'\n",
    "df1.loc[[166],['대륙']]='아시아'\n",
    "df1.loc[[169],['대륙']]='아프리카'\n",
    "df1.loc[[173],['대륙']]='유럽'\n",
    "df1.loc[[183],['대륙']]='유럽'\n",
    "df1.loc[[184],['국가명']]='기아나'\n",
    "df1.loc[[184],['대륙']]='유럽'\n",
    "df1.loc[[186],['대륙']]='아프리카'\n",
    "df1.loc[[154],['대륙']]='아프리카'\n",
    "df1.loc[[187],['대륙']]='오세아니아'\n",
    "df1.loc[[189],['대륙']]='오세아니아'\n",
    "df1.loc[[194],['대륙']]='아메리카'\n",
    "df1.loc[[197],['대륙']]='오세아니아'\n",
    "df1.loc[[198],['대륙']]='아메리카'\n",
    "df1.loc[[199],['대륙']]='아메리카'\n",
    "df1.loc[[204],['대륙']]='아메리카'\n",
    "df1.loc[[238],['대륙']]='유럽'\n",
    "df1.loc[[222],['대륙']]='유럽'\n",
    "df1.loc[[236],['대륙']]='오세아니아'\n",
    "df1.loc[[224],['대륙']]='오세아니아'\n",
    "df1.loc[[212],['대륙']]='오세아니아'\n",
    "df1.loc[[211],['대륙']]='아메리카'\n",
    "df1.loc[[210],['대륙']]='아메리카'\n",
    "df1.loc[[209],['대륙']]='오세아니아'"
   ]
  },
  {
   "cell_type": "code",
   "execution_count": 82,
   "metadata": {},
   "outputs": [
    {
     "data": {
      "text/html": [
       "<div>\n",
       "<style scoped>\n",
       "    .dataframe tbody tr th:only-of-type {\n",
       "        vertical-align: middle;\n",
       "    }\n",
       "\n",
       "    .dataframe tbody tr th {\n",
       "        vertical-align: top;\n",
       "    }\n",
       "\n",
       "    .dataframe thead tr th {\n",
       "        text-align: left;\n",
       "    }\n",
       "\n",
       "    .dataframe thead tr:last-of-type th {\n",
       "        text-align: right;\n",
       "    }\n",
       "</style>\n",
       "<table border=\"1\" class=\"dataframe\">\n",
       "  <thead>\n",
       "    <tr>\n",
       "      <th></th>\n",
       "      <th colspan=\"8\" halign=\"left\">인구수</th>\n",
       "    </tr>\n",
       "    <tr>\n",
       "      <th></th>\n",
       "      <th>count</th>\n",
       "      <th>mean</th>\n",
       "      <th>std</th>\n",
       "      <th>min</th>\n",
       "      <th>25%</th>\n",
       "      <th>50%</th>\n",
       "      <th>75%</th>\n",
       "      <th>max</th>\n",
       "    </tr>\n",
       "    <tr>\n",
       "      <th>대륙</th>\n",
       "      <th></th>\n",
       "      <th></th>\n",
       "      <th></th>\n",
       "      <th></th>\n",
       "      <th></th>\n",
       "      <th></th>\n",
       "      <th></th>\n",
       "      <th></th>\n",
       "    </tr>\n",
       "  </thead>\n",
       "  <tbody>\n",
       "    <tr>\n",
       "      <th>기타</th>\n",
       "      <td>26.0</td>\n",
       "      <td>4.806373e+04</td>\n",
       "      <td>6.266517e+04</td>\n",
       "      <td>46.0</td>\n",
       "      <td>5323.25</td>\n",
       "      <td>35312.5</td>\n",
       "      <td>63077.00</td>\n",
       "      <td>2.822000e+05</td>\n",
       "    </tr>\n",
       "    <tr>\n",
       "      <th>아메리카</th>\n",
       "      <td>36.0</td>\n",
       "      <td>2.831359e+07</td>\n",
       "      <td>6.691120e+07</td>\n",
       "      <td>55992.0</td>\n",
       "      <td>360757.50</td>\n",
       "      <td>5725915.5</td>\n",
       "      <td>18036605.25</td>\n",
       "      <td>3.348053e+08</td>\n",
       "    </tr>\n",
       "    <tr>\n",
       "      <th>아시아</th>\n",
       "      <td>56.0</td>\n",
       "      <td>8.596695e+07</td>\n",
       "      <td>2.646621e+08</td>\n",
       "      <td>53532.0</td>\n",
       "      <td>3607447.50</td>\n",
       "      <td>10202128.5</td>\n",
       "      <td>42210831.50</td>\n",
       "      <td>1.425881e+09</td>\n",
       "    </tr>\n",
       "    <tr>\n",
       "      <th>아프리카</th>\n",
       "      <td>57.0</td>\n",
       "      <td>2.369330e+07</td>\n",
       "      <td>3.668817e+07</td>\n",
       "      <td>96762.0</td>\n",
       "      <td>2338851.00</td>\n",
       "      <td>12218357.0</td>\n",
       "      <td>25823071.00</td>\n",
       "      <td>2.167420e+08</td>\n",
       "    </tr>\n",
       "    <tr>\n",
       "      <th>오세아니아</th>\n",
       "      <td>18.0</td>\n",
       "      <td>2.312979e+06</td>\n",
       "      <td>6.168210e+06</td>\n",
       "      <td>1520.0</td>\n",
       "      <td>27300.00</td>\n",
       "      <td>112700.0</td>\n",
       "      <td>586729.50</td>\n",
       "      <td>2.537170e+07</td>\n",
       "    </tr>\n",
       "    <tr>\n",
       "      <th>유럽</th>\n",
       "      <td>48.0</td>\n",
       "      <td>1.257393e+07</td>\n",
       "      <td>2.034763e+07</td>\n",
       "      <td>825.0</td>\n",
       "      <td>620242.75</td>\n",
       "      <td>5095881.0</td>\n",
       "      <td>10380720.25</td>\n",
       "      <td>8.388394e+07</td>\n",
       "    </tr>\n",
       "  </tbody>\n",
       "</table>\n",
       "</div>"
      ],
      "text/plain": [
       "        인구수                                                               \\\n",
       "      count          mean           std      min         25%         50%   \n",
       "대륙                                                                         \n",
       "기타     26.0  4.806373e+04  6.266517e+04     46.0     5323.25     35312.5   \n",
       "아메리카   36.0  2.831359e+07  6.691120e+07  55992.0   360757.50   5725915.5   \n",
       "아시아    56.0  8.596695e+07  2.646621e+08  53532.0  3607447.50  10202128.5   \n",
       "아프리카   57.0  2.369330e+07  3.668817e+07  96762.0  2338851.00  12218357.0   \n",
       "오세아니아  18.0  2.312979e+06  6.168210e+06   1520.0    27300.00    112700.0   \n",
       "유럽     48.0  1.257393e+07  2.034763e+07    825.0   620242.75   5095881.0   \n",
       "\n",
       "                                  \n",
       "               75%           max  \n",
       "대륙                                \n",
       "기타        63077.00  2.822000e+05  \n",
       "아메리카   18036605.25  3.348053e+08  \n",
       "아시아    42210831.50  1.425881e+09  \n",
       "아프리카   25823071.00  2.167420e+08  \n",
       "오세아니아    586729.50  2.537170e+07  \n",
       "유럽     10380720.25  8.388394e+07  "
      ]
     },
     "execution_count": 82,
     "metadata": {},
     "output_type": "execute_result"
    }
   ],
   "source": [
    "df1.groupby('대륙').describe()"
   ]
  },
  {
   "cell_type": "code",
   "execution_count": 52,
   "metadata": {},
   "outputs": [
    {
     "name": "stderr",
     "output_type": "stream",
     "text": [
      "C:\\Users\\신호림\\AppData\\Local\\Temp\\ipykernel_21584\\1083793214.py:1: FutureWarning: The default value of numeric_only in DataFrameGroupBy.sum is deprecated. In a future version, numeric_only will default to False. Either specify numeric_only or select only columns which should be valid for the function.\n",
      "  df2=df1.groupby('대륙').sum()\n"
     ]
    }
   ],
   "source": [
    "df2=df1.groupby('대륙').sum()"
   ]
  },
  {
   "cell_type": "code",
   "execution_count": 58,
   "metadata": {},
   "outputs": [
    {
     "name": "stderr",
     "output_type": "stream",
     "text": [
      "C:\\Users\\신호림\\AppData\\Local\\Temp\\ipykernel_21584\\4202545612.py:2: MatplotlibDeprecationWarning: The get_fontconfig_fonts function was deprecated in Matplotlib 3.5 and will be removed two minor releases later.\n",
      "  fm.get_fontconfig_fonts()\n"
     ]
    }
   ],
   "source": [
    "import matplotlib.font_manager as fm\n",
    "fm.get_fontconfig_fonts()\n",
    "font_location = 'C:\\Windows\\Fonts\\malgun.ttf'\n",
    "font_name = fm.FontProperties(fname=font_location).get_name()\n",
    "plt.rc('font', family=font_name)"
   ]
  },
  {
   "cell_type": "code",
   "execution_count": 61,
   "metadata": {},
   "outputs": [
    {
     "data": {
      "text/html": [
       "<div>\n",
       "<style scoped>\n",
       "    .dataframe tbody tr th:only-of-type {\n",
       "        vertical-align: middle;\n",
       "    }\n",
       "\n",
       "    .dataframe tbody tr th {\n",
       "        vertical-align: top;\n",
       "    }\n",
       "\n",
       "    .dataframe thead th {\n",
       "        text-align: right;\n",
       "    }\n",
       "</style>\n",
       "<table border=\"1\" class=\"dataframe\">\n",
       "  <thead>\n",
       "    <tr style=\"text-align: right;\">\n",
       "      <th></th>\n",
       "      <th>인구수</th>\n",
       "    </tr>\n",
       "    <tr>\n",
       "      <th>대륙</th>\n",
       "      <th></th>\n",
       "    </tr>\n",
       "  </thead>\n",
       "  <tbody>\n",
       "    <tr>\n",
       "      <th>기타</th>\n",
       "      <td>1249657</td>\n",
       "    </tr>\n",
       "    <tr>\n",
       "      <th>아메리카</th>\n",
       "      <td>1019289066</td>\n",
       "    </tr>\n",
       "    <tr>\n",
       "      <th>아시아</th>\n",
       "      <td>4814149222</td>\n",
       "    </tr>\n",
       "    <tr>\n",
       "      <th>아프리카</th>\n",
       "      <td>1350517895</td>\n",
       "    </tr>\n",
       "    <tr>\n",
       "      <th>오세아니아</th>\n",
       "      <td>41633617</td>\n",
       "    </tr>\n",
       "    <tr>\n",
       "      <th>유럽</th>\n",
       "      <td>603548608</td>\n",
       "    </tr>\n",
       "  </tbody>\n",
       "</table>\n",
       "</div>"
      ],
      "text/plain": [
       "              인구수\n",
       "대륙               \n",
       "기타        1249657\n",
       "아메리카   1019289066\n",
       "아시아    4814149222\n",
       "아프리카   1350517895\n",
       "오세아니아    41633617\n",
       "유럽      603548608"
      ]
     },
     "execution_count": 61,
     "metadata": {},
     "output_type": "execute_result"
    }
   ],
   "source": [
    "df2"
   ]
  },
  {
   "cell_type": "code",
   "execution_count": 66,
   "metadata": {},
   "outputs": [
    {
     "data": {
      "text/plain": [
       "<AxesSubplot: title={'center': '대륙별 인구수'}, xlabel='대륙', ylabel='10억명'>"
      ]
     },
     "execution_count": 66,
     "metadata": {},
     "output_type": "execute_result"
    },
    {
     "data": {
      "image/png": "[encoded data removed]",
      "text/plain": [
       "<Figure size 640x480 with 1 Axes>"
      ]
     },
     "metadata": {},
     "output_type": "display_data"
    }
   ],
   "source": [
    "df2.plot(kind='bar',title='대륙별 인구수',ylabel='10억명')"
   ]
  },
  {
   "cell_type": "code",
   "execution_count": 77,
   "metadata": {},
   "outputs": [],
   "source": [
    "df3=df1.groupby('대륙')['국가명'].count()"
   ]
  },
  {
   "cell_type": "code",
   "execution_count": 81,
   "metadata": {},
   "outputs": [
    {
     "data": {
      "text/plain": [
       "<AxesSubplot: title={'center': '대륙별 국가수'}, xlabel='대륙'>"
      ]
     },
     "execution_count": 81,
     "metadata": {},
     "output_type": "execute_result"
    },
    {
     "data": {
      "image/png": "[encoded data removed]",
      "text/plain": [
       "<Figure size 640x480 with 1 Axes>"
      ]
     },
     "metadata": {},
     "output_type": "display_data"
    }
   ],
   "source": [
    "df3.plot(kind='bar',title='대륙별 국가수')"
   ]
  },
  {
   "cell_type": "code",
   "execution_count": null,
   "metadata": {},
   "outputs": [],
   "source": []
  }
 ],
 "metadata": {
  "kernelspec": {
   "display_name": "Python 3.11.0 64-bit",
   "language": "python",
   "name": "python3"
  },
  "language_info": {
   "codemirror_mode": {
    "name": "ipython",
    "version": 3
   },
   "file_extension": ".py",
   "mimetype": "text/x-python",
   "name": "python",
   "nbconvert_exporter": "python",
   "pygments_lexer": "ipython3",
   "version": "3.11.0"
  },
  "orig_nbformat": 4,
  "vscode": {
   "interpreter": {
    "hash": "5238573367df39f7286bb46f9ff5f08f63a01a80960060ce41e3c79b190280fa"
   }
  }
 },
 "nbformat": 4,
 "nbformat_minor": 2
}
